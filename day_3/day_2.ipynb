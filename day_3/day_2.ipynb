{
 "cells": [
  {
   "cell_type": "code",
   "execution_count": 1,
   "metadata": {},
   "outputs": [],
   "source": [
    "# Read the input file\n",
    "\n",
    "f = open('test.txt', 'r+')\n",
    "my_data = f.read().splitlines()\n",
    "f.close()"
   ]
  },
  {
   "cell_type": "code",
   "execution_count": 2,
   "metadata": {},
   "outputs": [],
   "source": [
    "def count_score(my_data):\n",
    "    sum = 0\n",
    "    for item in my_data:\n",
    "        if item[0] == 'A':\n",
    "            if item[2] == 'Y':\n",
    "                sum += 8\n",
    "            elif item[2] == 'X':\n",
    "                sum += 4\n",
    "            elif item[2] == 'Z':\n",
    "                sum += 3\n",
    "        elif item[0] == 'B':\n",
    "            if item[2] == 'Y':\n",
    "                sum += 5\n",
    "            elif item[2] == 'X':\n",
    "                sum += 1\n",
    "            elif item[2] == 'Z':\n",
    "                sum += 9\n",
    "        else:\n",
    "            if item[2] == 'Y':\n",
    "                sum += 2\n",
    "            elif item[2] == 'X':\n",
    "                sum += 7\n",
    "            elif item[2] == 'Z':\n",
    "                sum += 6\n",
    "    return sum"
   ]
  },
  {
   "cell_type": "code",
   "execution_count": 3,
   "metadata": {},
   "outputs": [
    {
     "name": "stdout",
     "output_type": "stream",
     "text": [
      "15\n"
     ]
    }
   ],
   "source": [
    "count = count_score(my_data)\n",
    "print(count)"
   ]
  },
  {
   "cell_type": "code",
   "execution_count": 4,
   "metadata": {},
   "outputs": [],
   "source": [
    "def count_score2(my_data):\n",
    "    sum = 0\n",
    "    for item in my_data:\n",
    "        if item[0] == 'A':\n",
    "            if item[2] == 'Y':\n",
    "                sum += 4\n",
    "            elif item[2] == 'X':\n",
    "                sum += 3\n",
    "            elif item[2] == 'Z':\n",
    "                sum += 8\n",
    "        elif item[0] == 'B':\n",
    "            if item[2] == 'Y':\n",
    "                sum += 5\n",
    "            elif item[2] == 'X':\n",
    "                sum += 1\n",
    "            elif item[2] == 'Z':\n",
    "                sum += 9\n",
    "        else:\n",
    "            if item[2] == 'Y':\n",
    "                sum += 6\n",
    "            elif item[2] == 'X':\n",
    "                sum += 2\n",
    "            elif item[2] == 'Z':\n",
    "                sum += 7\n",
    "    return sum"
   ]
  },
  {
   "cell_type": "code",
   "execution_count": 5,
   "metadata": {},
   "outputs": [
    {
     "name": "stdout",
     "output_type": "stream",
     "text": [
      "12\n"
     ]
    }
   ],
   "source": [
    "count2 = count_score2(my_data)\n",
    "print(count2)"
   ]
  }
 ],
 "metadata": {
  "kernelspec": {
   "display_name": "Python 3",
   "language": "python",
   "name": "python3"
  },
  "language_info": {
   "codemirror_mode": {
    "name": "ipython",
    "version": 3
   },
   "file_extension": ".py",
   "mimetype": "text/x-python",
   "name": "python",
   "nbconvert_exporter": "python",
   "pygments_lexer": "ipython3",
   "version": "3.7.3"
  }
 },
 "nbformat": 4,
 "nbformat_minor": 2
}
