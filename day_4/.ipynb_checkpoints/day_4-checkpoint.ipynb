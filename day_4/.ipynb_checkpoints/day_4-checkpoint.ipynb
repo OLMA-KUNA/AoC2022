{
 "cells": [
  {
   "cell_type": "code",
   "execution_count": 91,
   "metadata": {},
   "outputs": [],
   "source": [
    "# Read the input file\n",
    "import re\n",
    "f = open('test.txt', 'r+')\n",
    "my_data = f.read().splitlines()\n",
    "f.close()\n",
    "my_data = [re.split(',|-', item) for item in my_data]"
   ]
  },
  {
   "cell_type": "code",
   "execution_count": 92,
   "metadata": {},
   "outputs": [
    {
     "name": "stdout",
     "output_type": "stream",
     "text": [
      "2\n"
     ]
    }
   ],
   "source": [
    "# First part\n",
    "\n",
    "def total_overlap(my_data):\n",
    "    count = 0\n",
    "    for item in my_data:\n",
    "        if (int(item[0]) >= int(item[2])) and (int(item[1]) <= int(item[3])):\n",
    "            count += 1\n",
    "        elif (int(item[2]) >= int(item[0])) and (int(item[3]) <= int(item[1])):\n",
    "            count += 1\n",
    "    return count\n",
    "\n",
    "print(total_overlap(my_data))"
   ]
  },
  {
   "cell_type": "code",
   "execution_count": 93,
   "metadata": {},
   "outputs": [
    {
     "name": "stdout",
     "output_type": "stream",
     "text": [
      "4\n"
     ]
    }
   ],
   "source": [
    "#Second part\n",
    "\n",
    "def partial_overlap(my_data):\n",
    "    count = 0\n",
    "    for item in my_data:\n",
    "        if (int(item[0]) >= int(item[2])) and (int(item[1]) <= int(item[3])):\n",
    "            count += 1\n",
    "        elif (int(item[0]) <= int(item[3])) and (int(item[1]) >= int(item[2])):\n",
    "            count += 1\n",
    "    return count\n",
    "\n",
    "print(partial_overlap(my_data))"
   ]
  }
 ],
 "metadata": {
  "kernelspec": {
   "display_name": "Python 3",
   "language": "python",
   "name": "python3"
  },
  "language_info": {
   "codemirror_mode": {
    "name": "ipython",
    "version": 3
   },
   "file_extension": ".py",
   "mimetype": "text/x-python",
   "name": "python",
   "nbconvert_exporter": "python",
   "pygments_lexer": "ipython3",
   "version": "3.7.3"
  }
 },
 "nbformat": 4,
 "nbformat_minor": 2
}
